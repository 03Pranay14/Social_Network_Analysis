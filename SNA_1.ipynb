{
 "cells": [
  {
   "cell_type": "code",
   "execution_count": null,
   "id": "7780361f-8960-4743-8faf-63b67c376b3b",
   "metadata": {},
   "outputs": [],
   "source": [
    "import pandas as pd\n",
    "import networkx as nx\n",
    "import matplotlib.pyplot as plt\n",
    "\n",
    "# Step 1: Load the dataset\n",
    "# Uncomment one based on your file format\n",
    "# df = pd.read_csv(\"slumdog_network.csv\")\n",
    "df = pd.read_excel(\"slumdog_network.xlsx\")\n",
    "\n",
    "# Step 2: Create the graph\n",
    "G = nx.Graph()\n",
    "\n",
    "# Step 3: Add edges from data\n",
    "for _, row in df.iterrows():\n",
    "    G.add_edge(row['Source'], row['Target'], relation=row['Relation'])\n",
    "\n",
    "# Step 4: Visualize the network\n",
    "plt.figure(figsize=(12, 8))\n",
    "pos = nx.spring_layout(G, seed=42)\n",
    "edge_labels = nx.get_edge_attributes(G, 'relation')\n",
    "\n",
    "nx.draw(G, pos, with_labels=True, node_color='lightblue', node_size=2500, font_size=10, font_weight='bold', edge_color='gray')\n",
    "nx.draw_networkx_edge_labels(G, pos, edge_labels=edge_labels, font_color='red', font_size=9)\n",
    "plt.title(\"Social Network: Slumdog Millionaire\", fontsize=16)\n",
    "plt.axis('off')\n",
    "plt.show()\n"
   ]
  },
  {
   "cell_type": "code",
   "execution_count": null,
   "id": "140506e5-8249-4273-bd14-5199e01a3c34",
   "metadata": {},
   "outputs": [],
   "source": []
  }
 ],
 "metadata": {
  "kernelspec": {
   "display_name": "Python 3 (ipykernel)",
   "language": "python",
   "name": "python3"
  },
  "language_info": {
   "codemirror_mode": {
    "name": "ipython",
    "version": 3
   },
   "file_extension": ".py",
   "mimetype": "text/x-python",
   "name": "python",
   "nbconvert_exporter": "python",
   "pygments_lexer": "ipython3",
   "version": "3.11.7"
  }
 },
 "nbformat": 4,
 "nbformat_minor": 5
}
